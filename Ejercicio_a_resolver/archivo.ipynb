{
 "cells": [
  {
   "cell_type": "markdown",
   "metadata": {},
   "source": [
    "Importamos las librerias necesarias para calcular los datos estadisticos de utilidad"
   ]
  },
  {
   "cell_type": "code",
   "execution_count": 4,
   "metadata": {},
   "outputs": [
    {
     "ename": "ModuleNotFoundError",
     "evalue": "No module named 'MetodosEstadisticos'",
     "output_type": "error",
     "traceback": [
      "\u001b[1;31m---------------------------------------------------------------------------\u001b[0m",
      "\u001b[1;31mModuleNotFoundError\u001b[0m                       Traceback (most recent call last)",
      "\u001b[1;32m~\\AppData\\Local\\Temp\\ipykernel_12788\\2418948044.py\u001b[0m in \u001b[0;36m<module>\u001b[1;34m\u001b[0m\n\u001b[0;32m      1\u001b[0m \u001b[1;32mimport\u001b[0m \u001b[0mpandas\u001b[0m \u001b[1;32mas\u001b[0m \u001b[0mpnd\u001b[0m\u001b[1;33m\u001b[0m\u001b[1;33m\u001b[0m\u001b[0m\n\u001b[1;32m----> 2\u001b[1;33m \u001b[1;32mimport\u001b[0m \u001b[0mMetodosEstadisticos\u001b[0m \u001b[1;32mas\u001b[0m \u001b[0mmt\u001b[0m\u001b[1;33m\u001b[0m\u001b[1;33m\u001b[0m\u001b[0m\n\u001b[0m\u001b[0;32m      3\u001b[0m \u001b[1;32mimport\u001b[0m \u001b[0mnumpy\u001b[0m \u001b[1;32mas\u001b[0m \u001b[0mnp\u001b[0m\u001b[1;33m\u001b[0m\u001b[1;33m\u001b[0m\u001b[0m\n",
      "\u001b[1;31mModuleNotFoundError\u001b[0m: No module named 'MetodosEstadisticos'"
     ]
    }
   ],
   "source": [
    "import pandas as pnd\n",
    "import numpy as np\n",
    "\n",
    "from collections import Counter\n",
    "from math import *\n",
    "import matplotlib.pyplot as plt"
   ]
  },
  {
   "cell_type": "code",
   "execution_count": null,
   "metadata": {},
   "outputs": [],
   "source": [
    "class MetodosEstadisticos:\n",
    "\n",
    "    def __init__(self,numeros):\n",
    "        self.numeros = numeros\n",
    "\n",
    "\n",
    "    def calculoMediaAritmetica(self):\n",
    "        n = self.numeros.count() #contamos la cantidad de numeros a sumar para despues dividir entre este numero\n",
    "        media = 0 #variable que almacena el valor de la suma de los numeros\n",
    "        for valor in self.numeros:\n",
    "            media = media + valor\n",
    "        return media/n\n",
    "\n",
    "    def calculoModa(self):\n",
    "        moda = Counter(self.numeros)\n",
    "        return moda\n",
    "    def calculoMediana(self):\n",
    "        mediana = self.numeros.median()\n",
    "        return mediana\n",
    "    def calculoMediana2(self):\n",
    "        mediana = 0\n",
    "        lista_numeros = self.numeros.sort_values()\n",
    "        n = self.lista_numeros.count()\n",
    "        par = False\n",
    "        if (n % 2 == 0):\n",
    "            print(\"La cantidad de observaciones es par.\")\n",
    "            par = True\n",
    "\n",
    "        if par:\n",
    "            rango = (n / 2)\n",
    "            print(\"RANGO = \"+str(rango))\n",
    "            rangoPython = rango-1\n",
    "            valor1 = lista_numeros[rangoPython]\n",
    "            valor2 = lista_numeros[rangoPython+1]\n",
    "            mediana = valor1 +((valor2-valor1)/2)\n",
    "        else:\n",
    "            rango = ((n + 1) / 2)\n",
    "            rangoPython = rango - 1\n",
    "            mediana = lista_numeros[rangoPython]\n",
    "\n",
    "        return [mediana, rango]\n",
    "\n",
    "    def calculoVarianzaDesviacionTipica(self):\n",
    "        n = self.numeros.count()\n",
    "        mediaAritmetica = self.numeros.mean()\n",
    "        varianza = 0\n",
    "        c3 = 0\n",
    "        for valorObservacion in self.numeros:\n",
    "            x = valorObservacion\n",
    "            moy = mediaAritmetica\n",
    "            c1 = valorObservacion - mediaAritmetica\n",
    "            c2 = c1 * c1\n",
    "            c3 = c3 + c2\n",
    "\n",
    "        varianza = c3 / (n - 1)\n",
    "\n",
    "        desviacionTipica = sqrt(varianza)\n",
    "\n",
    "        return ([varianza, desviacionTipica])\n",
    "    def analisisCaracteristica(self):\n",
    "\n",
    "        print(\"-----------------------------------------\")\n",
    "        print(\"      MEDIDA DE TENDENCIA CENTRAL        \")\n",
    "        print(\"-----------------------------------------\\n\")\n",
    "\n",
    "        print(\"-- CANTIDAD DE OBSERVACIONES --\")\n",
    "        # -Cantidad de observaciones\n",
    "        n = self.numeros.count()\n",
    "        print(\"Cantidad de observaciones = \" + str(n))\n",
    "\n",
    "        print (\"\\n-- MIN --\")\n",
    "        valoresOrdenados = self.numeros.sort_values()\n",
    "        valoresOrdenados = valoresOrdenados.reset_index(drop=True)\n",
    "        print(\"Valor mínimo: \"+str(valoresOrdenados[0]))\n",
    "\n",
    "        print (\"\\n-- MAX --\")\n",
    "        valoresOrdenados = self.numeros.sort_values()\n",
    "        valoresOrdenados = valoresOrdenados.reset_index(drop=True)\n",
    "        print(\"Valor máximo: \" + str(valoresOrdenados[len(valoresOrdenados)-1]))\n",
    "\n",
    "        # -Media artimética:\n",
    "        print(\"\\n-- MEDIA --\")\n",
    "        media = self.calculoMediaAritmetica()\n",
    "        print(\"Media aritmética calculada = \" + str(media))\n",
    "        print(\"> Observaciones: Si todas las observaciones tuvieran el mismo valor (reparto equitativo), este sería \" + str(media))\n",
    "\n",
    "        # -Media aritmética:\n",
    "        print(\"\\n-- MEDIANA --\")\n",
    "        mediana = self.calculoMediana()\n",
    "        print(\"Mediana calculada = \" + str(mediana[0]))\n",
    "        print(\"> Observaciones: El valor que se encuentra en el punto medio de las observaciones es:\" + str(mediana[0]))\n",
    "        print(\"El reparto es: \" + str(mediana[1]) + \" valores en cada lado de la mediana\")\n",
    "\n",
    "        # -Moda\n",
    "        print(\"\\n-- MODA --\")\n",
    "        moda = self.calculoModa()\n",
    "        print(moda)\n",
    "        print(\"> Observacions: La moda permite determinar los valores observados con más frecuencia\")\n",
    "\n",
    "\n",
    "        print(\"\\n\\n-----------------------------------------\")\n",
    "        print(\"      MEDIDA DE DISPERSION        \")\n",
    "        print(\"-----------------------------------------\\n\")\n",
    "        print(\"-- RANGO --\")\n",
    "        print (\"Rango de la serie = \"+str(valoresOrdenados[len(valoresOrdenados)-1]-valoresOrdenados[0]))\n",
    "        varianzaDesviacionTipica = self.calculoVarianzaDesviacionTipica()\n",
    "\n",
    "        print(\"\\n-- VARIANZA --\")\n",
    "        print(\"Varianza calculada = \" + str(varianzaDesviacionTipica[0]))\n",
    "\n",
    "        print(\"\\n-- DESVIACION TIPICA --\")\n",
    "        print(\"Desviación típica calculada = \" + str(varianzaDesviacionTipica[1]))\n",
    "        desviacionTipica = varianzaDesviacionTipica[1]\n",
    "        print(\"68 % de los valores de las observaciones se sitúan entre \" + str(media - desviacionTipica) + \" y \" + str(\n",
    "            media + desviacionTipica))\n",
    "        print(\"95 % de los valores de las observaciones se sitúan entre \" + str(media - (desviacionTipica * 2)) + \" y \" + str(\n",
    "            media + (desviacionTipica * 2)))\n",
    "        print(\"99 % de los valores de las observaciones se sitúan entre \" + str(media - (desviacionTipica * 3)) + \" y \" + str(\n",
    "            media + (desviacionTipica * 3)))\n",
    "\n",
    "        print(\"\\n\\n-----------------------------------------\")\n",
    "        print(\"      CUARTILES        \")\n",
    "        print(\"-----------------------------------------\\n\")\n",
    "        cuartiles = self.calculoDelosCuartiles(mediana[0],mediana[1])\n",
    "        print(\"25 % de las observaciones tienen un valor inferior a \" + str(cuartiles[0]))\n",
    "        print(\"50 % de las observaciones tienen un valor inferior a \" + str(cuartiles[1]))\n",
    "        print(\"75 % de las observaciones tienen un valor inferior a \" + str(cuartiles[2]))\n",
    "\n",
    "\n",
    "        print(\"\\n\\n-----------------------------------------\")\n",
    "        print(\"      DETECCION VALORES ABERRANTES        \")\n",
    "        print(\"-----------------------------------------\\n\")\n",
    "        print(\"> Criterios de Tukey\")\n",
    "        valoresAberrantes = self.criterioDeTukey(cuartiles[0], cuartiles[2])\n",
    "        print(\"Cantidad de valores aberrantes: \" + str(len(valoresAberrantes)))\n",
    "        print(\"Valores:\" + str(valoresAberrantes))\n",
    "\n",
    "\n",
    "        print(\"\\n\\n-----------------------------------------\")\n",
    "        print(\"      VISUALIZACION        \")\n",
    "        print(\"-----------------------------------------\\n\")\n",
    "        print(\"Generación de las gráficas...\")\n",
    "        self.visualizacion(media,mediana[0],cuartiles[0],cuartiles[1],cuartiles[2])"
   ]
  },
  {
   "cell_type": "markdown",
   "metadata": {},
   "source": [
    "Creamos el Data Frame con los datos que analizaremos"
   ]
  },
  {
   "cell_type": "code",
   "execution_count": 3,
   "metadata": {},
   "outputs": [
    {
     "ename": "NameError",
     "evalue": "name 'mt' is not defined",
     "output_type": "error",
     "traceback": [
      "\u001b[1;31m---------------------------------------------------------------------------\u001b[0m",
      "\u001b[1;31mNameError\u001b[0m                                 Traceback (most recent call last)",
      "\u001b[1;32m~\\AppData\\Local\\Temp\\ipykernel_12788\\3272183091.py\u001b[0m in \u001b[0;36m<module>\u001b[1;34m\u001b[0m\n\u001b[1;32m----> 1\u001b[1;33m \u001b[0mobservaciones\u001b[0m \u001b[1;33m=\u001b[0m \u001b[0mmt\u001b[0m\u001b[1;33m.\u001b[0m\u001b[0mMetodosEstadisticos\u001b[0m\u001b[1;33m(\u001b[0m\u001b[1;33m{\u001b[0m\u001b[1;34m'NOTAS'\u001b[0m\u001b[1;33m:\u001b[0m\u001b[0mnp\u001b[0m\u001b[1;33m.\u001b[0m\u001b[0marray\u001b[0m\u001b[1;33m(\u001b[0m\u001b[1;33m[\u001b[0m\u001b[1;36m3\u001b[0m\u001b[1;33m,\u001b[0m\u001b[1;36m19\u001b[0m\u001b[1;33m,\u001b[0m\u001b[1;36m10\u001b[0m\u001b[1;33m,\u001b[0m\u001b[1;36m15\u001b[0m\u001b[1;33m,\u001b[0m\u001b[1;36m14\u001b[0m\u001b[1;33m,\u001b[0m\u001b[1;36m12\u001b[0m\u001b[1;33m,\u001b[0m\u001b[1;36m9\u001b[0m\u001b[1;33m,\u001b[0m\u001b[1;36m8\u001b[0m\u001b[1;33m,\u001b[0m\u001b[1;36m11\u001b[0m\u001b[1;33m,\u001b[0m\u001b[1;36m12\u001b[0m\u001b[1;33m,\u001b[0m\u001b[1;36m11\u001b[0m\u001b[1;33m,\u001b[0m\u001b[1;36m12\u001b[0m\u001b[1;33m,\u001b[0m\u001b[1;36m13\u001b[0m\u001b[1;33m,\u001b[0m\u001b[1;36m11\u001b[0m\u001b[1;33m,\u001b[0m\u001b[1;36m14\u001b[0m\u001b[1;33m,\u001b[0m\u001b[1;36m16\u001b[0m\u001b[1;33m]\u001b[0m\u001b[1;33m)\u001b[0m\u001b[1;33m}\u001b[0m\u001b[1;33m)\u001b[0m\u001b[1;33m\u001b[0m\u001b[1;33m\u001b[0m\u001b[0m\n\u001b[0m",
      "\u001b[1;31mNameError\u001b[0m: name 'mt' is not defined"
     ]
    }
   ],
   "source": [
    "observaciones = MetodosEstadisticos({'NOTAS':np.array([3,19,10,15,14,12,9,8,11,12,11,12,13,11,14,16])})"
   ]
  },
  {
   "cell_type": "code",
   "execution_count": null,
   "metadata": {},
   "outputs": [],
   "source": []
  }
 ],
 "metadata": {
  "kernelspec": {
   "display_name": "Python 3 (ipykernel)",
   "language": "python",
   "name": "python3"
  },
  "language_info": {
   "codemirror_mode": {
    "name": "ipython",
    "version": 3
   },
   "file_extension": ".py",
   "mimetype": "text/x-python",
   "name": "python",
   "nbconvert_exporter": "python",
   "pygments_lexer": "ipython3",
   "version": "3.9.13"
  },
  "vscode": {
   "interpreter": {
    "hash": "ad3b0cd1acfef684cc2fde4e9122a3101adc2b8d9568ead10c63363fe6c1f032"
   }
  }
 },
 "nbformat": 4,
 "nbformat_minor": 2
}
