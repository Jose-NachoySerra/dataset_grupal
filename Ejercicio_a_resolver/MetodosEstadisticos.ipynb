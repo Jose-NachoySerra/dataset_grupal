from collections import Counter
from math import *
import matplotlib.pyplot as plt