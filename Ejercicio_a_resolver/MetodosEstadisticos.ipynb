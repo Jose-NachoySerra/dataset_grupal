{
 "cells": [
  {
   "cell_type": "markdown",
   "metadata": {},
   "source": [
    "Importamos las librerias necesarias"
   ]
  },
  {
   "cell_type": "code",
   "execution_count": 8,
   "metadata": {},
   "outputs": [],
   "source": [
    "from collections import Counter\n",
    "from math import *\n",
    "import matplotlib.pyplot as plt"
   ]
  },
  {
   "cell_type": "code",
   "execution_count": 2,
   "metadata": {},
   "outputs": [],
   "source": [
    "class MetodosEstadisticos:\n",
    "\n",
    "    def __init__(self,numeros):\n",
    "        self.numeros = numeros\n",
    "\n",
    "\n",
    "    def calculoMediaAritmetica(self):\n",
    "        n = self.numeros.count() #contamos la cantidad de numeros a sumar para despues dividir entre este numero\n",
    "        media = 0 #variable que almacena el valor de la suma de los numeros\n",
    "        for valor in self.numeros:\n",
    "            media = media + valor\n",
    "        return media/n\n",
    "\n",
    "    def CalculoModa(self):\n",
    "        moda = Counter(self.numeros)\n",
    "        return moda\n",
    "    def CalculoMediana(self):\n",
    "        mediana = self.numeros.median()\n",
    "        return mediana\n",
    "    def CalculoMediana2(self):\n",
    "        mediana = 0\n",
    "        lista_numeros = self.numeros.sort_values()\n",
    "        n = self.lista_numeros.count()\n",
    "        par = False\n",
    "        if (n % 2 == 0):\n",
    "            print(\"La cantidad de observaciones es par.\")\n",
    "            par = True\n",
    "\n",
    "        if par:\n",
    "            rango = (n / 2)\n",
    "            print(\"RANGO = \"+str(rango))\n",
    "            rangoPython = rango-1\n",
    "            valor1 = lista_numeros[rangoPython]\n",
    "            valor2 = lista_numeros[rangoPython+1]\n",
    "            mediana = valor1 +((valor2-valor1)/2)\n",
    "        else:\n",
    "            rango = ((n + 1) / 2)\n",
    "            rangoPython = rango - 1\n",
    "            mediana = lista_numeros[rangoPython]\n",
    "\n",
    "        return [mediana, rango]\n"
   ]
  },
  {
   "cell_type": "code",
   "execution_count": 10,
   "metadata": {},
   "outputs": [
    {
     "data": {
      "text/plain": [
       "12.0"
      ]
     },
     "execution_count": 10,
     "metadata": {},
     "output_type": "execute_result"
    }
   ],
   "source": []
  },
  {
   "cell_type": "code",
   "execution_count": null,
   "metadata": {},
   "outputs": [],
   "source": []
  }
 ],
 "metadata": {
  "kernelspec": {
   "display_name": "Python 3 (ipykernel)",
   "language": "python",
   "name": "python3"
  },
  "language_info": {
   "codemirror_mode": {
    "name": "ipython",
    "version": 3
   },
   "file_extension": ".py",
   "mimetype": "text/x-python",
   "name": "python",
   "nbconvert_exporter": "python",
   "pygments_lexer": "ipython3",
   "version": "3.10.11"
  },
  "vscode": {
   "interpreter": {
    "hash": "ad3b0cd1acfef684cc2fde4e9122a3101adc2b8d9568ead10c63363fe6c1f032"
   }
  }
 },
 "nbformat": 4,
 "nbformat_minor": 2
}
