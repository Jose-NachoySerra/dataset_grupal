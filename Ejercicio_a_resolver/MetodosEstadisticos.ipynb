{
 "cells": [
  {
   "cell_type": "markdown",
   "metadata": {},
   "source": [
    "Importamos las librerias necesarias"
   ]
  },
  {
   "cell_type": "code",
   "execution_count": null,
   "metadata": {},
   "outputs": [],
   "source": [
    "from collections import Counter\n",
    "from math import *\n",
    "import matplotlib.pyplot as plt"
   ]
  },
  {
   "cell_type": "code",
   "execution_count": null,
   "metadata": {},
   "outputs": [],
   "source": [
    "class MetodosEstadisticos:\n",
    "\n",
    "    def __init__(self,numeros):\n",
    "        self.numeros = numeros\n",
    "\n",
    "\n",
    "    def calculoMediaAritmetica(self):\n",
    "\n",
    "        n = self.numeros.count() #contamos la cantidad de numeros a sumar para despues dividir entre este numero\n",
    "        media = 0 #variable que almacena el valor de la suma de los numeros\n",
    "        for valor in self.numeros:\n",
    "            media = media + valor\n",
    "        media = media / n\n",
    "        return media"
   ]
  }
 ],
 "metadata": {
  "kernelspec": {
   "display_name": "Python 3.10.11 64-bit (microsoft store)",
   "language": "python",
   "name": "python3"
  },
  "language_info": {
   "name": "python",
   "version": "3.10.11"
  },
  "orig_nbformat": 4,
  "vscode": {
   "interpreter": {
    "hash": "ad3b0cd1acfef684cc2fde4e9122a3101adc2b8d9568ead10c63363fe6c1f032"
   }
  }
 },
 "nbformat": 4,
 "nbformat_minor": 2
}
